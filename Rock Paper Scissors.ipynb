{
  "cells": [
    {
      "cell_type": "markdown",
      "metadata": {
        "id": "view-in-github",
        "colab_type": "text"
      },
      "source": [
        "<a href=\"https://colab.research.google.com/github/Pavancode-py/Rock_Paper_scissors/blob/main/Rock%20Paper%20Scissors.ipynb\" target=\"_parent\"><img src=\"https://colab.research.google.com/assets/colab-badge.svg\" alt=\"Open In Colab\"/></a>"
      ]
    },
    {
      "cell_type": "code",
      "source": [
        "# Rock paper scissors\n",
        "# get the logo\n",
        "logo='''\n",
        "██╗   ██╗ ██████╗ ██╗   ██╗    ██╗    ██╗ ██████╗ ███╗   ██╗\n",
        "╚██╗ ██╔╝██╔═══██╗██║   ██║    ██║    ██║██╔═══██╗████╗  ██║\n",
        " ╚████╔╝ ██║   ██║██║   ██║    ██║ █╗ ██║██║   ██║██╔██╗ ██║\n",
        "  ╚██╔╝  ██║   ██║██║   ██║    ██║███╗██║██║   ██║██║╚██╗██║\n",
        "   ██║   ╚██████╔╝╚██████╔╝    ╚███╔███╔╝╚██████╔╝██║ ╚████║\n",
        "   ╚═╝    ╚═════╝  ╚═════╝      ╚══╝╚══╝  ╚═════╝ ╚═╝  ╚═══╝\n",
        "'''\n",
        "# input from the user\n",
        "import random\n",
        "def game():\n",
        "    print(\"Hello there! My name is Musk.AI. Recently I have won the Rock Paper Scissors AI games championship.\"\n",
        "            \" \\n Would you like to break that record? I am ready to play\")\n",
        "    user_choice=-1\n",
        "    while user_choice!=0 and user_choice!=1 and user_choice!=2:\n",
        "        try:\n",
        "\n",
        "            user_choice=int(input(\"\\n 0 is Rock, \\n 1 is Paper \\n 2 is scissors\\n Select your choice::\"))\n",
        "            if user_choice<0 or user_choice>2:\n",
        "                print(\"You have chose the wrong. You lose:(\")\n",
        "                user_choice=-1\n",
        "        except ValueError:\n",
        "            print(\"Please enter a valid number 0 for Rock,1 for Paper and 2 for scissors::\")\n",
        "# computer choice random numbers\n",
        "    else:\n",
        "        my_choice=random.randint(0,2)\n",
        "        print(\"My Choice is:\")\n",
        "        print(my_choice)\n",
        "# A rock = 0 beats scissors = 2,\n",
        "# scissors =2  beat paper =1 by cutting it, and\n",
        "# paper =1  beats rock =0  by covering it\n",
        "        if user_choice==my_choice:\n",
        "            print(\"Opps! Its a tie game\")\n",
        "        elif user_choice == 0 and my_choice==2:\n",
        "            print(\"Rock smashed scissors, You win.\")\n",
        "        elif my_choice > user_choice:\n",
        "            print(\"Smashed, You lose.\")\n",
        "        elif user_choice > my_choice:\n",
        "            print(\"Awesome,You win.\")\n",
        "            print(logo)\n",
        "game()"
      ],
      "metadata": {
        "id": "3gTjUQ3y6M_e"
      },
      "execution_count": null,
      "outputs": []
    }
  ],
  "metadata": {
    "colab": {
      "name": "Welcome To Colab",
      "provenance": [],
      "include_colab_link": true
    },
    "kernelspec": {
      "display_name": "Python 3",
      "name": "python3"
    }
  },
  "nbformat": 4,
  "nbformat_minor": 0
}